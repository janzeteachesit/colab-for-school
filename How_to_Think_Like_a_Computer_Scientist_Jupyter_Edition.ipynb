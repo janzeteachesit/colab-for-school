{
  "nbformat": 4,
  "nbformat_minor": 0,
  "metadata": {
    "colab": {
      "name": "How to Think Like a Computer Scientist: Jupyter Edition.ipynb",
      "version": "0.3.2",
      "provenance": [],
      "toc_visible": true,
      "include_colab_link": true
    },
    "kernelspec": {
      "name": "python3",
      "display_name": "Python 3"
    }
  },
  "cells": [
    {
      "cell_type": "markdown",
      "metadata": {
        "id": "view-in-github",
        "colab_type": "text"
      },
      "source": [
        "<a href=\"https://colab.research.google.com/github/janzeteachesit/colab-for-school/blob/master/How_to_Think_Like_a_Computer_Scientist_Jupyter_Edition.ipynb\" target=\"_parent\"><img src=\"https://colab.research.google.com/assets/colab-badge.svg\" alt=\"Open In Colab\"/></a>"
      ]
    },
    {
      "metadata": {
        "id": "wXlJAvs5FGu0",
        "colab_type": "text"
      },
      "cell_type": "markdown",
      "source": [
        "# How to Think Like a Computer Scientist: Jupyter Edition\n"
      ]
    },
    {
      "metadata": {
        "id": "ydZM4RgEEgbN",
        "colab_type": "text"
      },
      "cell_type": "markdown",
      "source": [
        "## 1. Introduction\n",
        "### 1.1. The Way of the Program\n",
        "The goal of this book is to teach you to think like a computer scientist. This way of thinking combines some of the best features of mathematics, engineering, and natural science. Like mathematicians, computer scientists use formal languages to denote ideas (specifically computations). Like engineers, they design things, assembling components into systems and evaluating tradeoffs among alternatives. Like scientists, they observe the behavior of complex systems, form hypotheses, and test predictions.\n",
        "\n",
        "The single most important skill for a computer scientist is problem solving. Problem solving means the ability to formulate problems, think creatively about solutions, and express a solution clearly and accurately. As it turns out, the process of learning to program is an excellent opportunity to practice problem solving skills. That’s why this chapter is called, The Way of the Program.\n",
        "\n",
        "On one level, you will be learning to program, a useful skill by itself. On another level, you will use programming as a means to an end. As we go along, that end will become clearer.\n",
        "### 1.2. Algorithms\n",
        "If problem solving is a central part of computer science, then the solutions that you create through the problem solving process are also important. In computer science, we refer to these solutions as algorithms. An algorithm is a step by step list of instructions that if followed exactly will solve the problem under consideration.\n",
        "\n",
        "Our goal in computer science is to take a problem and develop an algorithm that can serve as a general solution. Once we have such a solution, we can use our computer to automate the execution. As noted above, programming is a skill that allows a computer scientist to take an algorithm and represent it in a notation (a program) that can be followed by a computer. These programs are written in programming languages."
      ]
    },
    {
      "metadata": {
        "id": "4P5jl7pNeLGr",
        "colab_type": "text"
      },
      "cell_type": "markdown",
      "source": [
        "# About\n",
        "\n",
        "This Jupyter Notebook is a product of STEM Students at Templeton Secondary School, led by Carl Janze. There have been many contributors to the project. My thanks especially to the following:\n",
        "\n",
        "This book is based on the [Original](http://openbookproject.net/thinkcs/python/english3e/) work by: \n",
        "\n",
        "- Jeffrey Elkner, Allen B. Downey, and Chris Meyers\n",
        "\n",
        "This Jupyter Notebook is open source and I encourage you to grab a copy from GitHub if you would like to use it to write your own resources."
      ]
    },
    {
      "metadata": {
        "id": "LfpbMoCAFEKf",
        "colab_type": "text"
      },
      "cell_type": "markdown",
      "source": [
        ""
      ]
    }
  ]
}