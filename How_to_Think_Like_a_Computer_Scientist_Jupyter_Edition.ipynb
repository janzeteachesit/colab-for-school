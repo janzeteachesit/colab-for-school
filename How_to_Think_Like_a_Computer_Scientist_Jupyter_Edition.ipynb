{
  "nbformat": 4,
  "nbformat_minor": 0,
  "metadata": {
    "colab": {
      "name": "How to Think Like a Computer Scientist: Jupyter Edition.ipynb",
      "version": "0.3.2",
      "provenance": [],
      "collapsed_sections": [],
      "toc_visible": true,
      "include_colab_link": true
    },
    "kernelspec": {
      "name": "python3",
      "display_name": "Python 3"
    }
  },
  "cells": [
    {
      "cell_type": "markdown",
      "metadata": {
        "id": "view-in-github",
        "colab_type": "text"
      },
      "source": [
        "<a href=\"https://colab.research.google.com/github/janzeteachesit/colab-for-school/blob/master/How_to_Think_Like_a_Computer_Scientist_Jupyter_Edition.ipynb\" target=\"_parent\"><img src=\"https://colab.research.google.com/assets/colab-badge.svg\" alt=\"Open In Colab\"/></a>"
      ]
    },
    {
      "metadata": {
        "id": "wXlJAvs5FGu0",
        "colab_type": "text"
      },
      "cell_type": "markdown",
      "source": [
        "# How to Think Like a Computer Scientist: Jupyter Edition\n"
      ]
    },
    {
      "metadata": {
        "id": "VwXp1dRngYbf",
        "colab_type": "text"
      },
      "cell_type": "markdown",
      "source": [
        "# 1. Introduction"
      ]
    },
    {
      "metadata": {
        "id": "ydZM4RgEEgbN",
        "colab_type": "text"
      },
      "cell_type": "markdown",
      "source": [
        "## 1.1. The Way of the Program\n",
        "\n",
        "The goal of this book is to teach you to think like a computer scientist. This way of thinking combines some of the best features of mathematics, engineering, and natural science. Like mathematicians, computer scientists use formal languages to denote ideas (specifically computations). Like engineers, they design things, assembling components into systems and evaluating tradeoffs among alternatives. Like scientists, they observe the behavior of complex systems, form hypotheses, and test predictions.\n",
        "\n",
        "The single most important skill for a computer scientist is problem solving. Problem solving means the ability to formulate problems, think creatively about solutions, and express a solution clearly and accurately. As it turns out, the process of learning to program is an excellent opportunity to practice problem solving skills. That’s why this chapter is called, The Way of the Program.\n",
        "\n",
        "On one level, you will be learning to program, a useful skill by itself. On another level, you will use programming as a means to an end. As we go along, that end will become clearer.\n",
        "\n",
        "## 1.2. Algorithms\n",
        "\n",
        "If problem solving is a central part of computer science, then the solutions that you create through the problem solving process are also important. In computer science, we refer to these solutions as algorithms. An algorithm is a step by step list of instructions that if followed exactly will solve the problem under consideration.\n",
        "\n",
        "Our goal in computer science is to take a problem and develop an algorithm that can serve as a general solution. Once we have such a solution, we can use our computer to automate the execution. As noted above, programming is a skill that allows a computer scientist to take an algorithm and represent it in a notation (a program) that can be followed by a computer. These programs are written in programming languages.\n",
        "\n",
        "## 1.3. The Python Programming Language\n",
        "\n",
        "The programming language you will be learning is Python. Python is an example\n",
        "of a __high-level language__; other high-level languages you might have heard\n",
        "of are C++, PHP, and Java.\n",
        "\n",
        "As you might infer from the name high-level language, there are also __low-level languages__, sometimes referred to as machine languages or assembly languages. Machine language is the encoding of instructions in binary so that they can be directly executed by the computer.  Assembly language uses a slightly easier format to refer to the low level instructions.  Loosely speaking, computers can only execute programs written in low-level languages.  To be exact, computers can actually only execute programs written in machine language. Thus, programs written in a high-level language (and even those in assembly language) have to be processed before they can run. This extra processing takes some time, which is a small disadvantage of high-level languages. However, the advantages to high-level languages are enormous.\n",
        "\n",
        "First, it is much easier to program in a high-level language. Programs written in a high-level language take less time to write, they are shorter and easier to read, and they are more likely to be\n",
        "correct. Second, high-level languages are __portable__, meaning that they can\n",
        "run on different kinds of computers with few or no modifications. Low-level\n",
        "programs can run on only one kind of computer and have to be rewritten to run\n",
        "on another.\n",
        "\n",
        "<p>Due to these advantages, almost all programs are written in high-level\n",
        "languages. Low-level languages are used only for a few specialized\n",
        "applications.\n",
        "  \n",
        "<p>Two kinds of programs process high-level languages into low-level languages:\n",
        "__interpreters__ and __compilers__. An interpreter reads a high-level program\n",
        "and executes it, meaning that it does what the program says. It processes the\n",
        "program a little at a time, alternately reading lines and performing\n",
        "computations.\n",
        "<img alt=\"Interpret illustration\" src=\"../_images/interpret.png\" />\n",
        "<p>A compiler reads the program and translates it completely before the program\n",
        "starts running. In this case, the high-level program is called the __source\n",
        "code__, and the translated program is called the __object code__ or the\n",
        "__executable__. Once a program is compiled, you can execute it repeatedly\n",
        "without further translation.\n",
        "  \n",
        "<img alt=\"Compile illustration\" src=\"../_images/compile.png\" />\n",
        "<p>Many modern languages use both processes. They are first compiled into a lower\n",
        "level language, called __byte code__, and then interpreted by a program called\n",
        "a __virtual machine__. Python uses both processes, but because of the way\n",
        "programmers interact with it, it is usually considered an interpreted language.\n",
        "  \n",
        "<p>There are two ways to use the Python interpreter: <em>shell mode</em> and <em>program\n",
        "mode</em>. In shell mode, you type Python expressions into the __Python shell__,\n",
        "and the interpreter immediately shows the result.  The example below shows the Python shell at work.\n",
        "  \n",
        "<div class=\"highlight-default\"><div class=\"highlight\"><pre><span></span>$ python3\n",
        "Python 3.2 (r32:88445, Mar 25 2011, 19:28:28)\n",
        "[GCC 4.5.2] on linux2\n",
        "Type &quot;help&quot;, &quot;copyright&quot;, &quot;credits&quot; or &quot;license&quot; for more information.\n",
        "&gt;&gt;&gt; 2 + 3\n",
        "5\n",
        "&gt;&gt;&gt;\n",
        "</pre></div>\n",
        "</div>\n",
        "<p>The <code class=\"docutils literal\"><span class=\"pre\">&gt;&gt;&gt;</span></code> is called the __Python prompt__. The interpreter uses the prompt to\n",
        "indicate that it is ready for instructions. We typed <code class=\"docutils literal\"><span class=\"pre\">2</span> <span class=\"pre\">+</span> <span class=\"pre\">3</span></code>.  The\n",
        "interpreter evaluated our expression and replied <code class=\"docutils literal\"><span class=\"pre\">5</span></code>. On the next line\n",
        "it gave a new prompt indicating that it is ready for more input.\n",
        "\n",
        "<p>Working directly in the interpreter is convenient for testing short bits of\n",
        "code because you get immediate feedback. Think of it as scratch paper used to\n",
        "help you work out problems.\n",
        "\n",
        "<p>Alternatively, you can write an entire program by placing lines of Python instructions\n",
        "in a file and then use the interpreter to\n",
        "execute the contents of the file as a whole. Such a file is often referred to as __source code__.  For\n",
        "example, we used a text editor to create a source code file named <code class=\"docutils literal\"><span class=\"pre\">firstprogram.py</span></code> with\n",
        "the following contents:\n",
        "\n",
        "<div class=\"highlight-python\"><div class=\"highlight\"><pre><span></span><span class=\"k\">print</span><span class=\"p\">(</span><span class=\"s2\">&quot;My first program adds two numbers, 2 and 3:&quot;</span><span class=\"p\">)</span>\n",
        "<span class=\"k\">print</span><span class=\"p\">(</span><span class=\"mi\">2</span> <span class=\"o\">+</span> <span class=\"mi\">3</span><span class=\"p\">)</span>\n",
        "</pre></div>\n",
        "</div>\n",
        "<p>By convention, files that contain Python programs have names that end with\n",
        "<code class=\"docutils literal\"><span class=\"pre\">.py</span></code> .  Following this convention will help your operating system and other\n",
        "programs identify a file as containing python code.\n",
        "\n",
        "<div class=\"highlight-default\"><div class=\"highlight\"><pre><span></span>$ python firstprogram.py\n",
        "My first program adds two numbers, 2 and 3:\n",
        "5\n",
        "</pre></div>\n",
        "</div>\n",
        "<p>These examples show Python being run from a Unix command line. In other\n",
        "development environments, the details of executing programs may differ. Also,\n",
        "most programs are more interesting than this one.\n",
        "  \n",
        "<div class=\"admonition-want-to-learn-more-about-python admonition\">\n",
        "<p class=\"first admonition-title\">Want to learn more about Python?\n",
        "  \n",
        "<p class=\"last\">If you would like to learn more about installing and using Python, here are some video links.\n",
        "<a class=\"reference external\" href=\"http://youtu.be/9EfGpN1Pnsg\">Installing Python for Windows</a> shows you how to install the Python environment under\n",
        "Windows Vista,\n",
        "<a class=\"reference external\" href=\"http://youtu.be/MEmEJCLLI2k\">Installing Python for Mac</a> shows you how to install under Mac OS/X, and\n",
        "<a class=\"reference external\" href=\"http://youtu.be/RLPYBxfAud4\">Installing Python for Linux</a> shows you how to install from the Linux\n",
        "command line.\n",
        "<a class=\"reference external\" href=\"http://youtu.be/kXbpB5_ywDw\">Using Python</a> shows you some details about the Python shell and source code.\n",
        "  "
      ]
    },
    {
      "metadata": {
        "id": "4P5jl7pNeLGr",
        "colab_type": "text"
      },
      "cell_type": "markdown",
      "source": [
        "# About\n",
        "\n",
        "This Jupyter Notebook is a product of STEM Students at Templeton Secondary School, led by Carl Janze. There have been many contributors to the project. My thanks especially to the following:\n",
        "\n",
        "This book is based on the [Original](http://openbookproject.net/thinkcs/python/english3e/) work by: \n",
        "\n",
        "- Jeffrey Elkner, Allen B. Downey, and Chris Meyers\n",
        "\n",
        "This Jupyter Notebook is open source and I encourage you to grab a copy from GitHub if you would like to use it to write your own resources."
      ]
    },
    {
      "metadata": {
        "id": "q0ox4rfUgsLf",
        "colab_type": "text"
      },
      "cell_type": "markdown",
      "source": [
        "# Notes\n",
        "\n",
        "- https://www.google.com/search?q=How+to+Think+Like+a+Computer+Scientist:+Interactive+Edition&safe=strict&rlz=1C1GCEV_en&source=lnt&tbs=qdr:y&sa=X&ved=0ahUKEwijiMPF_ubfAhWuHzQIHZYHBmUQpwUIJg&biw=1024&bih=1178 | How to Think Like a Computer Scientist: Interactive Edition - Google Search\n",
        "- http://interactivepython.org/courselib/static/thinkcspy/index.html | Table of Contents — How to Think like a Computer Scientist: Interactive Edition\n",
        "- http://interactivepython.org/courselib/static/thinkcspy/GeneralIntro/toctree.html | 1. General Introduction — How to Think like a Computer Scientist: Interactive Edition\n",
        "- http://openbookproject.net/thinkcs/python/english3e/ | How to Think Like a Computer Scientist — How to Think Like a Computer Scientist: Learning with Python 3\n",
        "- https://github.com/RunestoneInteractive/thinkcspy | GitHub - RunestoneInteractive/thinkcspy: How to Think Like a Computer Scientist, Interactive Edition\n",
        "- http://pages.di.unipi.it/marino/python/index.html | About this Edition — Summarising How to Think like a Computer Scientist: Interactive Edition\n",
        "- https://wiki.python.org/moin/BeginnersGuide/NonProgrammers | BeginnersGuide/NonProgrammers - Python Wiki\n",
        "- http://greenteapress.com/wp/think-python-2e/ | Think Python 2e – Green Tea Press\n",
        "- https://github.com/AllenDowney/ThinkPython2 | AllenDowney/ThinkPython2: LaTeX source and supporting code for Think Python, 2nd edition, by Allen Downey.\n",
        "- https://github.com/AllenDowney | AllenDowney (Allen Downey)\n",
        "- http://greenteapress.com/thinkpython2/html/thinkpython2001.html | Preface\n"
      ]
    },
    {
      "metadata": {
        "id": "LfpbMoCAFEKf",
        "colab_type": "text"
      },
      "cell_type": "markdown",
      "source": [
        ""
      ]
    }
  ]
}