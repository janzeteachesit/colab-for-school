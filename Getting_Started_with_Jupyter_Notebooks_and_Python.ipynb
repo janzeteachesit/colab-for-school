{
  "nbformat": 4,
  "nbformat_minor": 0,
  "metadata": {
    "colab": {
      "name": "Getting_Started_with_Jupyter_Notebooks_and_Python.ipynb",
      "version": "0.3.2",
      "provenance": [],
      "collapsed_sections": [],
      "toc_visible": true,
      "include_colab_link": true
    },
    "kernelspec": {
      "display_name": "Python 3",
      "language": "python",
      "name": "python3"
    }
  },
  "cells": [
    {
      "cell_type": "markdown",
      "metadata": {
        "id": "view-in-github",
        "colab_type": "text"
      },
      "source": [
        "<a href=\"https://colab.research.google.com/github/janzeteachesit/colab-for-school/blob/master/Getting_Started_with_Jupyter_Notebooks_and_Python.ipynb\" target=\"_parent\"><img src=\"https://colab.research.google.com/assets/colab-badge.svg\" alt=\"Open In Colab\"/></a>"
      ]
    },
    {
      "metadata": {
        "colab_type": "text",
        "id": "ub8jClemdOv-"
      },
      "cell_type": "markdown",
      "source": [
        "# Getting Started with Jupyter Notebooks, Python, and Google Colaboratory\n",
        "\n",
        "by Jeffrey Kantor  (jeff at nd.edu). The latest version of this notebook is available at [https://github.com/jckantor/CBE20255](https://github.com/jckantor/CBE20255). "
      ]
    },
    {
      "metadata": {
        "colab_type": "text",
        "id": "HlCqwbAEg6Fw"
      },
      "cell_type": "markdown",
      "source": [
        "## Summary\n",
        "\n",
        "The purpose of this notebook is to introduce Jupyter Notebooks, Python, and Google Colaboratory for routine engineering calculations. This introduction assumes this is your first exposure to these topics.\n",
        "\n",
        "**[Jupyter Notebooks](https://Jupyter.org)** are interactive documents, like this one, that include text and code. The documents are ordinary files with a suffix `.ipynb`. They can be uploaded, downloaded, and shared like any other digital document. The notebooks are composed of individual cells containing either text, code, or the output of a calculation. The code cells be written in different programming languages such as Python, R, and Julia.\n",
        "\n",
        "**[Python](https://www.python.org/)** is a high-level, object-oriented programming language well suited to the rapid development of web and scientific applications. It is widely used for interactive science and engineering computations where productivity is a more important than achieving the highest levels of numerical performance. Python refers to the language itself plus a large eco-system of development tools, documentation, and code libraries for numerical computations, data management, and graphics. \n",
        "\n",
        "**[Google Colaboratory](https://colab.research.google.com/)** is Google's cloud environment for viewing and executing Jupyter/Python notebooks. It operates like Google docs, providing for the collaborative creation and editing of notebooks, and allowing notebooks to be saved to your Google Drive account. Because Colaboratory is based entirely in the cloud, there is no need to install any local software. Colaboratory requires only a browser and internet access to view and execute notebooks. \n",
        "\n",
        "There other software development environments well suited to viewing and executing the notebooks in this repository. Among them are the excellent distributions\n",
        "\n",
        "* [Anaconda](https://store.continuum.io/cshop/anaconda/) available from [Continuum Analytics](http://continuum.io/).\n",
        "* [Enthought Canopy](https://www.enthought.com/products/canopy/) available from [Enthought, Inc.](https://www.enthought.com/)\n",
        "\n",
        "which include tools to view and edit Jupyter notebooks, curated versions of all the major Python code libraries, and additional software development tools. You will want to install one of these distributions if you need off-line access to these notebooks, or if you intend to do more extensive development. "
      ]
    },
    {
      "metadata": {
        "colab_type": "text",
        "id": "rZ7GJBr7dOwB"
      },
      "cell_type": "markdown",
      "source": [
        "## Step 1: Setting up Google Colaboratory and Google Drive\n",
        "\n",
        "The easiest way to get started with Google Colaboratory is to open a notebook. If you are not currently reading this notebook on Colaboratory, open it [here from the github repository](https://colab.research.google.com/github/jckantor/CBE20255/blob/master/notebooks/Getting_Started_with_Jupyter_Notebooks_and_Python.ipynb).\n",
        "\n",
        "Google Colaboratory is tightly integrated with Google Drive. Notebooks can be opened directly from Google Drive and automatically saved back to Google Drive. Notebooks can be shared, and support mutiple users collaborating simultaenously the same notebook. These features will be familiar if you've previously used Google Docs. You can obtain a Google Drive or a Google One account [here](https://www.google.com/drive/) if you don't already have one. The free tier offers 15GB of storage which is enough for routine use of these notebooks.\n",
        "\n",
        "When opened from a third party resource such as github, the notebook is initially in `playground mode`. This is fine for viewing notebooks and executing code cells. To save your work you will need to save a copy of the notebook. You can save a copy to:\n",
        "\n",
        "* your Google Drive\n",
        "* a repository in your own github account\n",
        "* download the notebook to your personal device\n"
      ]
    },
    {
      "metadata": {
        "colab_type": "text",
        "id": "NLvYtMzqdOwI"
      },
      "cell_type": "markdown",
      "source": [
        "## Step 2: Experiment with Python\n",
        "\n",
        "Python is an elegant and modern language for programming and problem solving that has found increasing use by engineers and scientists.  In the next few cells we'll demonstrate some basic Python functionality."
      ]
    },
    {
      "metadata": {
        "colab_type": "text",
        "id": "6GvOBb-UdOwK"
      },
      "cell_type": "markdown",
      "source": [
        "### Basic Arithmetic Operations"
      ]
    },
    {
      "metadata": {
        "colab_type": "text",
        "id": "a9jceXKbdOwK"
      },
      "cell_type": "markdown",
      "source": [
        "Basic arithmetic functions"
      ]
    },
    {
      "metadata": {
        "colab_type": "code",
        "id": "tHiS8xANdOwL",
        "outputId": "3c0fb60e-eda8-4b50-9932-ef5abf5e04cb",
        "colab": {}
      },
      "cell_type": "code",
      "source": [
        "a = 12\n",
        "b = 2\n",
        "print(\"a + b = \", a + b)\n",
        "print(\"a**b = \", a**b)\n",
        "print(\"a/b = \", a/b)"
      ],
      "execution_count": 0,
      "outputs": [
        {
          "output_type": "stream",
          "text": [
            "a + b =  14\n",
            "a**b =  144\n",
            "a/b =  6.0\n"
          ],
          "name": "stdout"
        }
      ]
    },
    {
      "metadata": {
        "colab_type": "text",
        "id": "MoVqT__pdOwP"
      },
      "cell_type": "markdown",
      "source": [
        "Most math functions are in the `numpy` library.  This next cell shows how to import `numpy` with the prefix `np`, then use it to call a common function"
      ]
    },
    {
      "metadata": {
        "colab_type": "code",
        "id": "qaWjJLpPdOwQ",
        "outputId": "b592d447-a49e-4261-f36b-7d19188ea5d3",
        "colab": {}
      },
      "cell_type": "code",
      "source": [
        "import numpy as np\n",
        "np.sin(2*np.pi)"
      ],
      "execution_count": 0,
      "outputs": [
        {
          "output_type": "execute_result",
          "data": {
            "text/plain": [
              "-2.4492935982947064e-16"
            ]
          },
          "metadata": {
            "tags": []
          },
          "execution_count": 3
        }
      ]
    },
    {
      "metadata": {
        "colab_type": "text",
        "id": "FEQz3ZaddOwT"
      },
      "cell_type": "markdown",
      "source": [
        "### Working with Lists"
      ]
    },
    {
      "metadata": {
        "colab_type": "text",
        "id": "PuQyiwjwdOwT"
      },
      "cell_type": "markdown",
      "source": [
        "Lists are a versatile way of organizing your data in Python. Here are some examples, more can be found on [this Khan Academy video](http://youtu.be/zEyEC34MY1A)."
      ]
    },
    {
      "metadata": {
        "colab_type": "code",
        "id": "KNekErcidOwV",
        "outputId": "027d078b-6ce8-42f2-c8fb-eb4ca6eddb2c",
        "colab": {}
      },
      "cell_type": "code",
      "source": [
        "xList = [1, 2, 3, 4]\n",
        "print(xList)"
      ],
      "execution_count": 0,
      "outputs": [
        {
          "output_type": "stream",
          "text": [
            "[1, 2, 3, 4]\n"
          ],
          "name": "stdout"
        }
      ]
    },
    {
      "metadata": {
        "colab_type": "text",
        "id": "Qx1TyoKPdOwY"
      },
      "cell_type": "markdown",
      "source": [
        "Concatentation is the operation of joining one list to another. "
      ]
    },
    {
      "metadata": {
        "colab_type": "code",
        "id": "27RQ4lVCdOwZ",
        "outputId": "45135d5b-f30d-492b-ca60-c816f2c06eb5",
        "colab": {}
      },
      "cell_type": "code",
      "source": [
        "# Concatenation\n",
        "x = [1, 2, 3, 4];\n",
        "y = [5, 6, 7, 8];\n",
        "\n",
        "x + y"
      ],
      "execution_count": 0,
      "outputs": [
        {
          "output_type": "execute_result",
          "data": {
            "text/plain": [
              "[1, 2, 3, 4, 5, 6, 7, 8]"
            ]
          },
          "metadata": {
            "tags": []
          },
          "execution_count": 5
        }
      ]
    },
    {
      "metadata": {
        "colab_type": "text",
        "id": "WFvsUiyOdOwb"
      },
      "cell_type": "markdown",
      "source": [
        "A common operation is to apply a binary operation to elements of a single list. For an example such as arithmetic addition, this can be done using the `sum` function from `numpy`."
      ]
    },
    {
      "metadata": {
        "colab_type": "code",
        "id": "3uvuKZRTdOwc",
        "outputId": "06b2040c-63bb-4905-d090-6a61367c20a4",
        "colab": {}
      },
      "cell_type": "code",
      "source": [
        "# Two ways to sum a list of numbers\n",
        "print(np.sum(x))"
      ],
      "execution_count": 0,
      "outputs": [
        {
          "output_type": "stream",
          "text": [
            "10\n"
          ],
          "name": "stdout"
        }
      ]
    },
    {
      "metadata": {
        "colab_type": "text",
        "id": "ERV4Nw5UdOwf"
      },
      "cell_type": "markdown",
      "source": [
        "A for loop is a means for iterating over the elements of a list. The colon marks the start of code that will be executed for each element of a list. Indenting has meaning in Python. In this case, everything in the indented block will be executed on each iteration of the for loop."
      ]
    },
    {
      "metadata": {
        "colab_type": "code",
        "id": "2lQNC1GddOwg",
        "outputId": "70335dd5-1449-4c3f-b16c-351f72895d5b",
        "colab": {}
      },
      "cell_type": "code",
      "source": [
        "for x in xList:\n",
        "    print(\"x =\", x, \"    sin(x) = \", np.sin(x))"
      ],
      "execution_count": 0,
      "outputs": [
        {
          "output_type": "stream",
          "text": [
            "x = 1     sin(x) =  0.841470984808\n",
            "x = 2     sin(x) =  0.909297426826\n",
            "x = 3     sin(x) =  0.14112000806\n",
            "x = 4     sin(x) =  -0.756802495308\n"
          ],
          "name": "stdout"
        }
      ]
    },
    {
      "metadata": {
        "colab_type": "text",
        "id": "azHKUfrHdOwj"
      },
      "cell_type": "markdown",
      "source": [
        "A **list comprehension** is a very useful tool for creating a new list using data from an existing. For example, suppose you have a list consisting random numbers"
      ]
    },
    {
      "metadata": {
        "colab_type": "code",
        "id": "v-wqo344dOwl",
        "outputId": "527aabbe-7ddb-4d77-bb35-b70b6026995a",
        "colab": {}
      },
      "cell_type": "code",
      "source": [
        "from random import random\n",
        "\n",
        "[i + random() for i in range(0,10)]"
      ],
      "execution_count": 0,
      "outputs": [
        {
          "output_type": "execute_result",
          "data": {
            "text/plain": [
              "[0.9959514091474849,\n",
              " 1.3337049184445149,\n",
              " 2.22586093411208,\n",
              " 3.038725784616201,\n",
              " 4.713931613055822,\n",
              " 5.0169357888528,\n",
              " 6.284381770543241,\n",
              " 7.31791118795497,\n",
              " 8.02554443224444,\n",
              " 9.745344449194649]"
            ]
          },
          "metadata": {
            "tags": []
          },
          "execution_count": 8
        }
      ]
    },
    {
      "metadata": {
        "colab_type": "text",
        "id": "K3IUohOGdOwo"
      },
      "cell_type": "markdown",
      "source": [
        "### Working with dictionaries"
      ]
    },
    {
      "metadata": {
        "colab_type": "text",
        "id": "A0wFoRPIdOwp"
      },
      "cell_type": "markdown",
      "source": [
        "Dictionaries are useful for storing and retrieving data as key-value pairs.  For example, here is a short dictionary of molar masses. The keys are molecular formulas, and the values are the corresponding molar masses."
      ]
    },
    {
      "metadata": {
        "colab_type": "code",
        "id": "tdy5Uz0YdOwr",
        "outputId": "1660f0ad-da69-49f2-b44d-571b0a86441b",
        "colab": {}
      },
      "cell_type": "code",
      "source": [
        "mw = {'CH4': 16.04, 'H2O': 18.02, 'O2':32.00, 'CO2': 44.01}\n",
        "print(mw)"
      ],
      "execution_count": 0,
      "outputs": [
        {
          "output_type": "stream",
          "text": [
            "{'CH4': 16.04, 'H2O': 18.02, 'O2': 32.0, 'CO2': 44.01}\n"
          ],
          "name": "stdout"
        }
      ]
    },
    {
      "metadata": {
        "colab_type": "text",
        "id": "7z0wjD94dOwu"
      },
      "cell_type": "markdown",
      "source": [
        "We can a value to an existing dictionary."
      ]
    },
    {
      "metadata": {
        "colab_type": "code",
        "id": "PsDuwnM_dOww",
        "outputId": "273fd808-4aec-4f1e-a1b5-c74509d46fb1",
        "colab": {}
      },
      "cell_type": "code",
      "source": [
        "mw['C8H18'] = 114.23\n",
        "print(mw)"
      ],
      "execution_count": 0,
      "outputs": [
        {
          "output_type": "stream",
          "text": [
            "{'CH4': 16.04, 'H2O': 18.02, 'C8H18': 114.23, 'O2': 32.0, 'CO2': 44.01}\n"
          ],
          "name": "stdout"
        }
      ]
    },
    {
      "metadata": {
        "colab_type": "text",
        "id": "2bv2O_vhdOw1"
      },
      "cell_type": "markdown",
      "source": [
        "We can retrieve a value from a dictionary."
      ]
    },
    {
      "metadata": {
        "colab_type": "code",
        "id": "FsfBuSZbdOw1",
        "outputId": "ede088e7-0f45-4529-d9f5-17dd3860eea4",
        "colab": {}
      },
      "cell_type": "code",
      "source": [
        "mw['CH4']"
      ],
      "execution_count": 0,
      "outputs": [
        {
          "output_type": "execute_result",
          "data": {
            "text/plain": [
              "16.04"
            ]
          },
          "metadata": {
            "tags": []
          },
          "execution_count": 10
        }
      ]
    },
    {
      "metadata": {
        "colab_type": "text",
        "id": "6P6YjVDwdOw6"
      },
      "cell_type": "markdown",
      "source": [
        "A for loop is a useful means of interating over all key-value pairs of a dictionary."
      ]
    },
    {
      "metadata": {
        "colab_type": "code",
        "id": "YkPMDAw-dOw7",
        "outputId": "965778f0-b25c-457e-8002-dd9f82b94fad",
        "colab": {}
      },
      "cell_type": "code",
      "source": [
        "for species in mw.keys():\n",
        "    print(\"The molar mass of {:<s} is {:<7.2f}\".format(species, mw[species]))"
      ],
      "execution_count": 0,
      "outputs": [
        {
          "output_type": "stream",
          "text": [
            "The molar mass of CH4 is 16.04  \n",
            "The molar mass of H2O is 18.02  \n",
            "The molar mass of C8H18 is 114.23 \n",
            "The molar mass of O2 is 32.00  \n",
            "The molar mass of CO2 is 44.01  \n"
          ],
          "name": "stdout"
        }
      ]
    },
    {
      "metadata": {
        "colab_type": "text",
        "id": "bTxvlcVZdOw-"
      },
      "cell_type": "markdown",
      "source": [
        "Dictionaries can be sorted by key or by value"
      ]
    },
    {
      "metadata": {
        "colab_type": "code",
        "id": "c6cUv4AddOw_",
        "outputId": "83d25f78-d34c-4c5a-94b8-0e1b075269b1",
        "colab": {}
      },
      "cell_type": "code",
      "source": [
        "for species in sorted(mw):\n",
        "    print(\" {:<8s}  {:>7.2f}\".format(species, mw[species]))"
      ],
      "execution_count": 0,
      "outputs": [
        {
          "output_type": "stream",
          "text": [
            " C8H18      114.23\n",
            " CH4         16.04\n",
            " CO2         44.01\n",
            " H2O         18.02\n",
            " O2          32.00\n"
          ],
          "name": "stdout"
        }
      ]
    },
    {
      "metadata": {
        "colab_type": "code",
        "id": "0CQdhGm9dOxF",
        "outputId": "1a7d2441-7574-4dff-d972-793129e26bc9",
        "colab": {}
      },
      "cell_type": "code",
      "source": [
        "for species in sorted(mw, key = mw.get):\n",
        "    print(\" {:<8s}  {:>7.2f}\".format(species, mw[species]))"
      ],
      "execution_count": 0,
      "outputs": [
        {
          "output_type": "stream",
          "text": [
            " CH4         16.04\n",
            " H2O         18.02\n",
            " O2          32.00\n",
            " CO2         44.01\n",
            " C8H18      114.23\n"
          ],
          "name": "stdout"
        }
      ]
    },
    {
      "metadata": {
        "colab_type": "text",
        "id": "tCAFS5j6dOxI"
      },
      "cell_type": "markdown",
      "source": [
        "### Plotting"
      ]
    },
    {
      "metadata": {
        "colab_type": "text",
        "id": "3Vneyg9wdOxI"
      },
      "cell_type": "markdown",
      "source": [
        "Importing the `matplotlib.pyplot` library gives IPython notebooks plotting functionality very similar to Matlab's. Here are some examples using functions from the "
      ]
    },
    {
      "metadata": {
        "colab_type": "code",
        "id": "A1RIkEcPdOxJ",
        "outputId": "cdc4220b-756a-4d36-f407-f687e0fa816a",
        "colab": {}
      },
      "cell_type": "code",
      "source": [
        "import matplotlib.pyplot as plt\n",
        "import numpy as np\n",
        "%matplotlib inline\n",
        "\n",
        "x = np.linspace(0,10)\n",
        "y = np.sin(x)\n",
        "z = np.cos(x)\n",
        "\n",
        "plt.plot(x,y,'b',x,z,'r')\n",
        "plt.xlabel('Radians');\n",
        "plt.ylabel('Value');\n",
        "plt.title('Plotting Demonstration')\n",
        "plt.legend(['Sin','Cos'])\n",
        "plt.grid()"
      ],
      "execution_count": 0,
      "outputs": [
        {
          "output_type": "display_data",
          "data": {
            "image/png": "[encoded data removed]",
            "text/plain": [
              "<matplotlib.figure.Figure at 0x10e9d4400>"
            ]
          },
          "metadata": {
            "tags": []
          }
        }
      ]
    },
    {
      "metadata": {
        "colab_type": "code",
        "id": "c34av3p6dOxM",
        "outputId": "bd03e477-f089-4c3d-c879-9595d46cefdd",
        "colab": {}
      },
      "cell_type": "code",
      "source": [
        "plt.plot(y,z)\n",
        "plt.axis('equal')"
      ],
      "execution_count": 0,
      "outputs": [
        {
          "output_type": "execute_result",
          "data": {
            "text/plain": [
              "(-1.09972447591003,\n",
              " 1.0979832896606587,\n",
              " -1.0992804688576738,\n",
              " 1.0999657366122702)"
            ]
          },
          "metadata": {
            "tags": []
          },
          "execution_count": 15
        },
        {
          "output_type": "display_data",
          "data": {
            "image/png": "[encoded data removed]",
            "text/plain": [
              "<matplotlib.figure.Figure at 0x10e9cc898>"
            ]
          },
          "metadata": {
            "tags": []
          }
        }
      ]
    },
    {
      "metadata": {
        "colab_type": "code",
        "id": "EsQgcqBqdOxO",
        "outputId": "ad1b2c5b-ac14-45fe-98a6-76270c63523d",
        "colab": {}
      },
      "cell_type": "code",
      "source": [
        "plt.subplot(2,1,1)\n",
        "plt.plot(x,y)\n",
        "plt.title('Sin(x)')\n",
        "\n",
        "plt.subplot(2,1,2)\n",
        "plt.plot(x,z)\n",
        "plt.title('Cos(x)')"
      ],
      "execution_count": 0,
      "outputs": [
        {
          "output_type": "execute_result",
          "data": {
            "text/plain": [
              "<matplotlib.text.Text at 0x113048358>"
            ]
          },
          "metadata": {
            "tags": []
          },
          "execution_count": 16
        },
        {
          "output_type": "display_data",
          "data": {
            "image/png": "[encoded data removed]",
            "text/plain": [
              "<matplotlib.figure.Figure at 0x112ecc828>"
            ]
          },
          "metadata": {
            "tags": []
          }
        }
      ]
    },
    {
      "metadata": {
        "colab_type": "text",
        "id": "bd5zqdXXdOxR"
      },
      "cell_type": "markdown",
      "source": [
        "## Step 3: Solve Equations using Sympy"
      ]
    },
    {
      "metadata": {
        "colab_type": "text",
        "id": "nq1m8gaddOxS"
      },
      "cell_type": "markdown",
      "source": [
        "One of the best features of Python is the ability to extend it's functionality by importing special purpose libraries of functions. Here we demonstrate the use of a symbolic algebra package [`Sympy`](http://sympy.org/en/index.html) for routine problem solving."
      ]
    },
    {
      "metadata": {
        "colab_type": "code",
        "id": "jl-wimO3dOxU",
        "outputId": "3a61fdfe-df02-4deb-d543-0a8e52b5433a",
        "colab": {}
      },
      "cell_type": "code",
      "source": [
        "import sympy as sym\n",
        "\n",
        "sym.var('P V n R T');\n",
        "\n",
        "# Gas constant\n",
        "R = 8.314        # J/K/gmol\n",
        "R = R * 1000     # J/K/kgmol\n",
        "\n",
        "# Moles of air\n",
        "mAir = 1         # kg\n",
        "mwAir = 28.97    # kg/kg-mol\n",
        "n = mAir/mwAir   # kg-mol\n",
        "\n",
        "# Temperature\n",
        "T = 298\n",
        "\n",
        "# Equation\n",
        "eqn = sym.Eq(P*V,n*R*T)\n",
        "\n",
        "# Solve for P \n",
        "f = sym.solve(eqn,P)\n",
        "print(f[0])\n",
        "\n",
        "# Use the sympy plot function to plot\n",
        "sym.plot(f[0],(V,1,10),xlabel='Volume m**3',ylabel='Pressure Pa')"
      ],
      "execution_count": 0,
      "outputs": [
        {
          "output_type": "stream",
          "text": [
            "85521.9882637211/V\n"
          ],
          "name": "stdout"
        },
        {
          "output_type": "display_data",
          "data": {
            "image/png": "[encoded data removed]",
            "text/plain": [
              "<matplotlib.figure.Figure at 0x1145ab470>"
            ]
          },
          "metadata": {
            "tags": []
          }
        },
        {
          "output_type": "execute_result",
          "data": {
            "text/plain": [
              "<sympy.plotting.plot.Plot at 0x11302c048>"
            ]
          },
          "metadata": {
            "tags": []
          },
          "execution_count": 17
        }
      ]
    },
    {
      "metadata": {
        "colab_type": "text",
        "id": "ydgkecqJdOxW"
      },
      "cell_type": "markdown",
      "source": [
        "## Step 4: Defining your own functions\n",
        "\n",
        "Many of the physical properties of chemical species are given as functions of temperature or pressure. "
      ]
    },
    {
      "metadata": {
        "colab_type": "text",
        "id": "nnJxBIH-dOxW"
      },
      "cell_type": "markdown",
      "source": [
        "## Step 5: Learn More"
      ]
    },
    {
      "metadata": {
        "colab_type": "text",
        "id": "F0uuyQNgdOxX"
      },
      "cell_type": "markdown",
      "source": [
        "Python offers a full range of programming language features, and there is a seemingly endless range of packages for scientific and engineering computations. Here are some suggestions on places you can go for more information on programming for engineering applications in Python.\n",
        "\n",
        "__Introduction to Python for Science__\n",
        "\n",
        "This excellent introduction to python is aimed at undergraduates in science with no programming experience. It is free and available at the following link.\n",
        "\n",
        "* [Introduction to Python for Science](https://github.com/djpine/pyman)\n",
        "\n",
        "\n",
        "__Tutorial Introduction to Python for Science and Engineering.__\n",
        "\n",
        "The following text is licensed by the Hesburgh Library for use by Notre Dame students and faculty only. Please refer to the library's [acceptable use policy](http://library.nd.edu/eresources/access/acceptable_use.shtml). Others can find it at [Springer](http://www.springer.com/us/book/9783642549588) or [Amazon](http://www.amazon.com/Scientific-Programming-Computational-Science-Engineering/dp/3642549586/ref=dp_ob_title_bk). Resources for this book are available on [github](http://hplgit.github.io/scipro-primer/).\n",
        "\n",
        "* [A Primer on Scientific Programming with Python (Fourth Edition)](http://link.springer.com.proxy.library.nd.edu/book/10.1007/978-3-642-54959-5) by Hans Petter Langtangen. Resources for this book are available on [github](http://hplgit.github.io/scipro-primer/).\n",
        "\n",
        "pycse is a package of python functions, examples, and document prepared by John Kitchin at Carnegie Mellon University. It is a recommended for its coverage of topics relevant to chemical engineers, including a chapter on typical chemical engineering computations. \n",
        "\n",
        "* [pycse - Python Computations in Science and Engineering](https://github.com/jkitchin/pycse/blob/master/pycse.pdf) by John Kitchin at Carnegie Mellon. This is a link into the the [github repository for pycse](https://github.com/jkitchin/pycse), click on the `Raw` button to download the `.pdf` file.\n",
        "\n",
        "__Interative learning and on-line tutorials__\n",
        "\n",
        "* [Code Academy on Python](http://www.codecademy.com/tracks/python)\n",
        "* [Khan Academy Videos on Python Programming](https://www.khanacademy.org/science/computer-science-subject/computer-science)\n",
        "* [Python Tutorial](http://docs.python.org/2/tutorial/)\n",
        "* [Think Python: How to Think Like a Computer Scientist](http://www.greenteapress.com/thinkpython/html/index.html)\n",
        "* [Engineering with Python](http://www.engineeringwithpython.com/)\n",
        "\n",
        "__Official documentation, examples, and galleries.__\n",
        "\n",
        "* [Notebook Examples](https://github.com/ipython/ipython/tree/master/examples/notebooks)\n",
        "* [Notebook Gallery](https://github.com/ipython/ipython/wiki/A-gallery-of-interesting-IPython-Notebooks)\n",
        "* [Official Notebook Documentation](http://ipython.org/ipython-doc/stable/interactive/notebook.html)\n",
        "* [Matplotlib](http://matplotlib.org/index.html) "
      ]
    },
    {
      "metadata": {
        "colab_type": "code",
        "id": "PyeEJO_YdOxY",
        "colab": {}
      },
      "cell_type": "code",
      "source": [
        ""
      ],
      "execution_count": 0,
      "outputs": []
    }
  ]
}