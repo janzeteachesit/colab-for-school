{
  "nbformat": 4,
  "nbformat_minor": 0,
  "metadata": {
    "colab": {
      "name": "Covid-19-v1.ipynb",
      "provenance": [],
      "authorship_tag": "ABX9TyMl0i2YSsjecsS/oKcjJ7lf",
      "include_colab_link": true
    },
    "kernelspec": {
      "name": "python3",
      "display_name": "Python 3"
    }
  },
  "cells": [
    {
      "cell_type": "markdown",
      "metadata": {
        "id": "view-in-github",
        "colab_type": "text"
      },
      "source": [
        "<a href=\"https://colab.research.google.com/github/janzeteachesit/colab-for-school/blob/master/Covid_19_v1.ipynb\" target=\"_parent\"><img src=\"https://colab.research.google.com/assets/colab-badge.svg\" alt=\"Open In Colab\"/></a>"
      ]
    },
    {
      "cell_type": "markdown",
      "metadata": {
        "id": "M-MrKZK8NZsV",
        "colab_type": "text"
      },
      "source": [
        "# Analyzing the COVID-19\n",
        "## Imports"
      ]
    },
    {
      "cell_type": "code",
      "metadata": {
        "id": "gAfj3AFUNSp4",
        "colab_type": "code",
        "colab": {}
      },
      "source": [
        "import pandas as pd"
      ],
      "execution_count": 0,
      "outputs": []
    },
    {
      "cell_type": "code",
      "metadata": {
        "id": "rPFkcknGNju_",
        "colab_type": "code",
        "colab": {}
      },
      "source": [
        "from matplotlib import pyplot as plt"
      ],
      "execution_count": 0,
      "outputs": []
    },
    {
      "cell_type": "markdown",
      "metadata": {
        "id": "g_F_L02VNm5e",
        "colab_type": "text"
      },
      "source": [
        "## Loading Data"
      ]
    },
    {
      "cell_type": "code",
      "metadata": {
        "id": "F-_Pnxu7NrUs",
        "colab_type": "code",
        "colab": {}
      },
      "source": [
        "url = 'http://cowid.netlify.com/data/full_data.csv'"
      ],
      "execution_count": 0,
      "outputs": []
    },
    {
      "cell_type": "code",
      "metadata": {
        "id": "OLS_q570NsJ2",
        "colab_type": "code",
        "colab": {}
      },
      "source": [
        "dateparse = lambda x: pd.datetime.strptime(x, '%Y-%m-%d')\n",
        "\n",
        "df = pd.read_csv(url, parse_dates=['date'], date_parser=dateparse)"
      ],
      "execution_count": 0,
      "outputs": []
    },
    {
      "cell_type": "code",
      "metadata": {
        "id": "IhlWx9VZNw32",
        "colab_type": "code",
        "colab": {
          "base_uri": "https://localhost:8080/",
          "height": 415
        },
        "outputId": "c62c74e6-6253-4fa7-c18b-9bdc6dcd9c70"
      },
      "source": [
        "df"
      ],
      "execution_count": 32,
      "outputs": [
        {
          "output_type": "execute_result",
          "data": {
            "text/html": [
              "<div>\n",
              "<style scoped>\n",
              "    .dataframe tbody tr th:only-of-type {\n",
              "        vertical-align: middle;\n",
              "    }\n",
              "\n",
              "    .dataframe tbody tr th {\n",
              "        vertical-align: top;\n",
              "    }\n",
              "\n",
              "    .dataframe thead th {\n",
              "        text-align: right;\n",
              "    }\n",
              "</style>\n",
              "<table border=\"1\" class=\"dataframe\">\n",
              "  <thead>\n",
              "    <tr style=\"text-align: right;\">\n",
              "      <th></th>\n",
              "      <th>date</th>\n",
              "      <th>location</th>\n",
              "      <th>new_cases</th>\n",
              "      <th>new_deaths</th>\n",
              "      <th>total_cases</th>\n",
              "      <th>total_deaths</th>\n",
              "    </tr>\n",
              "  </thead>\n",
              "  <tbody>\n",
              "    <tr>\n",
              "      <th>0</th>\n",
              "      <td>2020-02-25</td>\n",
              "      <td>Afghanistan</td>\n",
              "      <td>NaN</td>\n",
              "      <td>NaN</td>\n",
              "      <td>1</td>\n",
              "      <td>NaN</td>\n",
              "    </tr>\n",
              "    <tr>\n",
              "      <th>1</th>\n",
              "      <td>2020-02-26</td>\n",
              "      <td>Afghanistan</td>\n",
              "      <td>0.0</td>\n",
              "      <td>NaN</td>\n",
              "      <td>1</td>\n",
              "      <td>NaN</td>\n",
              "    </tr>\n",
              "    <tr>\n",
              "      <th>2</th>\n",
              "      <td>2020-02-27</td>\n",
              "      <td>Afghanistan</td>\n",
              "      <td>0.0</td>\n",
              "      <td>NaN</td>\n",
              "      <td>1</td>\n",
              "      <td>NaN</td>\n",
              "    </tr>\n",
              "    <tr>\n",
              "      <th>3</th>\n",
              "      <td>2020-02-28</td>\n",
              "      <td>Afghanistan</td>\n",
              "      <td>0.0</td>\n",
              "      <td>NaN</td>\n",
              "      <td>1</td>\n",
              "      <td>NaN</td>\n",
              "    </tr>\n",
              "    <tr>\n",
              "      <th>4</th>\n",
              "      <td>2020-02-29</td>\n",
              "      <td>Afghanistan</td>\n",
              "      <td>0.0</td>\n",
              "      <td>NaN</td>\n",
              "      <td>1</td>\n",
              "      <td>NaN</td>\n",
              "    </tr>\n",
              "    <tr>\n",
              "      <th>...</th>\n",
              "      <td>...</td>\n",
              "      <td>...</td>\n",
              "      <td>...</td>\n",
              "      <td>...</td>\n",
              "      <td>...</td>\n",
              "      <td>...</td>\n",
              "    </tr>\n",
              "    <tr>\n",
              "      <th>2862</th>\n",
              "      <td>2020-03-13</td>\n",
              "      <td>World</td>\n",
              "      <td>7488.0</td>\n",
              "      <td>338.0</td>\n",
              "      <td>132758</td>\n",
              "      <td>4956.0</td>\n",
              "    </tr>\n",
              "    <tr>\n",
              "      <th>2863</th>\n",
              "      <td>2020-03-14</td>\n",
              "      <td>World</td>\n",
              "      <td>9761.0</td>\n",
              "      <td>433.0</td>\n",
              "      <td>142534</td>\n",
              "      <td>5392.0</td>\n",
              "    </tr>\n",
              "    <tr>\n",
              "      <th>2864</th>\n",
              "      <td>2020-03-15</td>\n",
              "      <td>World</td>\n",
              "      <td>10967.0</td>\n",
              "      <td>343.0</td>\n",
              "      <td>153517</td>\n",
              "      <td>5735.0</td>\n",
              "    </tr>\n",
              "    <tr>\n",
              "      <th>2865</th>\n",
              "      <td>2020-03-16</td>\n",
              "      <td>World</td>\n",
              "      <td>13971.0</td>\n",
              "      <td>855.0</td>\n",
              "      <td>167506</td>\n",
              "      <td>6606.0</td>\n",
              "    </tr>\n",
              "    <tr>\n",
              "      <th>2866</th>\n",
              "      <td>2020-03-17</td>\n",
              "      <td>World</td>\n",
              "      <td>11594.0</td>\n",
              "      <td>819.0</td>\n",
              "      <td>179112</td>\n",
              "      <td>7426.0</td>\n",
              "    </tr>\n",
              "  </tbody>\n",
              "</table>\n",
              "<p>2867 rows × 6 columns</p>\n",
              "</div>"
            ],
            "text/plain": [
              "           date     location  new_cases  new_deaths  total_cases  total_deaths\n",
              "0    2020-02-25  Afghanistan        NaN         NaN            1           NaN\n",
              "1    2020-02-26  Afghanistan        0.0         NaN            1           NaN\n",
              "2    2020-02-27  Afghanistan        0.0         NaN            1           NaN\n",
              "3    2020-02-28  Afghanistan        0.0         NaN            1           NaN\n",
              "4    2020-02-29  Afghanistan        0.0         NaN            1           NaN\n",
              "...         ...          ...        ...         ...          ...           ...\n",
              "2862 2020-03-13        World     7488.0       338.0       132758        4956.0\n",
              "2863 2020-03-14        World     9761.0       433.0       142534        5392.0\n",
              "2864 2020-03-15        World    10967.0       343.0       153517        5735.0\n",
              "2865 2020-03-16        World    13971.0       855.0       167506        6606.0\n",
              "2866 2020-03-17        World    11594.0       819.0       179112        7426.0\n",
              "\n",
              "[2867 rows x 6 columns]"
            ]
          },
          "metadata": {
            "tags": []
          },
          "execution_count": 32
        }
      ]
    },
    {
      "cell_type": "markdown",
      "metadata": {
        "id": "m0jfZof6ODbn",
        "colab_type": "text"
      },
      "source": [
        "## Adding a \"Days\" column"
      ]
    },
    {
      "cell_type": "code",
      "metadata": {
        "id": "hKoJXwB3OJ4H",
        "colab_type": "code",
        "colab": {
          "base_uri": "https://localhost:8080/",
          "height": 225
        },
        "outputId": "98ce3a87-4750-450a-8f10-47397fd36b8a"
      },
      "source": [
        "df['date'] - df['date'].min()"
      ],
      "execution_count": 33,
      "outputs": [
        {
          "output_type": "execute_result",
          "data": {
            "text/plain": [
              "0      35 days\n",
              "1      36 days\n",
              "2      37 days\n",
              "3      38 days\n",
              "4      39 days\n",
              "         ...  \n",
              "2862   52 days\n",
              "2863   53 days\n",
              "2864   54 days\n",
              "2865   55 days\n",
              "2866   56 days\n",
              "Name: date, Length: 2867, dtype: timedelta64[ns]"
            ]
          },
          "metadata": {
            "tags": []
          },
          "execution_count": 33
        }
      ]
    },
    {
      "cell_type": "code",
      "metadata": {
        "id": "qgSyr9JHON99",
        "colab_type": "code",
        "colab": {}
      },
      "source": [
        "df['days'] = df['date'] - df['date'].min()"
      ],
      "execution_count": 0,
      "outputs": []
    },
    {
      "cell_type": "markdown",
      "metadata": {
        "id": "OfxcP2dEOTIG",
        "colab_type": "text"
      },
      "source": [
        "## Picking only countries of interest\n"
      ]
    },
    {
      "cell_type": "code",
      "metadata": {
        "id": "G8-jlrldObjf",
        "colab_type": "code",
        "colab": {}
      },
      "source": [
        "dfs = df[df['location'].isin(['Canada', 'China'])]"
      ],
      "execution_count": 0,
      "outputs": []
    },
    {
      "cell_type": "markdown",
      "metadata": {
        "id": "wthQ1sUWOaoG",
        "colab_type": "text"
      },
      "source": [
        "## Getting the total cases per country\n",
        "\n"
      ]
    },
    {
      "cell_type": "code",
      "metadata": {
        "id": "1UN3hwsJOSWW",
        "colab_type": "code",
        "colab": {}
      },
      "source": [
        "df_total_cases_all_countries = dfs[['location', 'days', 'total_cases']].groupby(['location', 'days']).sum().unstack('location')['total_cases']"
      ],
      "execution_count": 0,
      "outputs": []
    },
    {
      "cell_type": "code",
      "metadata": {
        "id": "xt6_BqYNOoTm",
        "colab_type": "code",
        "colab": {
          "base_uri": "https://localhost:8080/",
          "height": 1000
        },
        "outputId": "49346222-8496-49ab-a1c4-58f7b4a0d00c"
      },
      "source": [
        "df_total_cases_all_countries"
      ],
      "execution_count": 37,
      "outputs": [
        {
          "output_type": "execute_result",
          "data": {
            "text/html": [
              "<div>\n",
              "<style scoped>\n",
              "    .dataframe tbody tr th:only-of-type {\n",
              "        vertical-align: middle;\n",
              "    }\n",
              "\n",
              "    .dataframe tbody tr th {\n",
              "        vertical-align: top;\n",
              "    }\n",
              "\n",
              "    .dataframe thead th {\n",
              "        text-align: right;\n",
              "    }\n",
              "</style>\n",
              "<table border=\"1\" class=\"dataframe\">\n",
              "  <thead>\n",
              "    <tr style=\"text-align: right;\">\n",
              "      <th>location</th>\n",
              "      <th>Canada</th>\n",
              "      <th>China</th>\n",
              "    </tr>\n",
              "    <tr>\n",
              "      <th>days</th>\n",
              "      <th></th>\n",
              "      <th></th>\n",
              "    </tr>\n",
              "  </thead>\n",
              "  <tbody>\n",
              "    <tr>\n",
              "      <th>0 days</th>\n",
              "      <td>NaN</td>\n",
              "      <td>278.0</td>\n",
              "    </tr>\n",
              "    <tr>\n",
              "      <th>1 days</th>\n",
              "      <td>NaN</td>\n",
              "      <td>310.0</td>\n",
              "    </tr>\n",
              "    <tr>\n",
              "      <th>2 days</th>\n",
              "      <td>NaN</td>\n",
              "      <td>574.0</td>\n",
              "    </tr>\n",
              "    <tr>\n",
              "      <th>3 days</th>\n",
              "      <td>NaN</td>\n",
              "      <td>835.0</td>\n",
              "    </tr>\n",
              "    <tr>\n",
              "      <th>4 days</th>\n",
              "      <td>NaN</td>\n",
              "      <td>1297.0</td>\n",
              "    </tr>\n",
              "    <tr>\n",
              "      <th>5 days</th>\n",
              "      <td>NaN</td>\n",
              "      <td>1985.0</td>\n",
              "    </tr>\n",
              "    <tr>\n",
              "      <th>6 days</th>\n",
              "      <td>1.0</td>\n",
              "      <td>2761.0</td>\n",
              "    </tr>\n",
              "    <tr>\n",
              "      <th>7 days</th>\n",
              "      <td>2.0</td>\n",
              "      <td>4537.0</td>\n",
              "    </tr>\n",
              "    <tr>\n",
              "      <th>8 days</th>\n",
              "      <td>3.0</td>\n",
              "      <td>5997.0</td>\n",
              "    </tr>\n",
              "    <tr>\n",
              "      <th>9 days</th>\n",
              "      <td>3.0</td>\n",
              "      <td>7736.0</td>\n",
              "    </tr>\n",
              "    <tr>\n",
              "      <th>10 days</th>\n",
              "      <td>3.0</td>\n",
              "      <td>9720.0</td>\n",
              "    </tr>\n",
              "    <tr>\n",
              "      <th>11 days</th>\n",
              "      <td>4.0</td>\n",
              "      <td>11821.0</td>\n",
              "    </tr>\n",
              "    <tr>\n",
              "      <th>12 days</th>\n",
              "      <td>4.0</td>\n",
              "      <td>14411.0</td>\n",
              "    </tr>\n",
              "    <tr>\n",
              "      <th>13 days</th>\n",
              "      <td>4.0</td>\n",
              "      <td>17238.0</td>\n",
              "    </tr>\n",
              "    <tr>\n",
              "      <th>14 days</th>\n",
              "      <td>4.0</td>\n",
              "      <td>20471.0</td>\n",
              "    </tr>\n",
              "    <tr>\n",
              "      <th>15 days</th>\n",
              "      <td>5.0</td>\n",
              "      <td>24363.0</td>\n",
              "    </tr>\n",
              "    <tr>\n",
              "      <th>16 days</th>\n",
              "      <td>5.0</td>\n",
              "      <td>28060.0</td>\n",
              "    </tr>\n",
              "    <tr>\n",
              "      <th>17 days</th>\n",
              "      <td>7.0</td>\n",
              "      <td>31211.0</td>\n",
              "    </tr>\n",
              "    <tr>\n",
              "      <th>18 days</th>\n",
              "      <td>7.0</td>\n",
              "      <td>34598.0</td>\n",
              "    </tr>\n",
              "    <tr>\n",
              "      <th>19 days</th>\n",
              "      <td>7.0</td>\n",
              "      <td>37251.0</td>\n",
              "    </tr>\n",
              "    <tr>\n",
              "      <th>20 days</th>\n",
              "      <td>7.0</td>\n",
              "      <td>40235.0</td>\n",
              "    </tr>\n",
              "    <tr>\n",
              "      <th>21 days</th>\n",
              "      <td>7.0</td>\n",
              "      <td>42708.0</td>\n",
              "    </tr>\n",
              "    <tr>\n",
              "      <th>22 days</th>\n",
              "      <td>7.0</td>\n",
              "      <td>44730.0</td>\n",
              "    </tr>\n",
              "    <tr>\n",
              "      <th>23 days</th>\n",
              "      <td>7.0</td>\n",
              "      <td>46550.0</td>\n",
              "    </tr>\n",
              "    <tr>\n",
              "      <th>24 days</th>\n",
              "      <td>7.0</td>\n",
              "      <td>48548.0</td>\n",
              "    </tr>\n",
              "    <tr>\n",
              "      <th>25 days</th>\n",
              "      <td>7.0</td>\n",
              "      <td>50054.0</td>\n",
              "    </tr>\n",
              "    <tr>\n",
              "      <th>26 days</th>\n",
              "      <td>7.0</td>\n",
              "      <td>51174.0</td>\n",
              "    </tr>\n",
              "    <tr>\n",
              "      <th>27 days</th>\n",
              "      <td>7.0</td>\n",
              "      <td>70635.0</td>\n",
              "    </tr>\n",
              "    <tr>\n",
              "      <th>28 days</th>\n",
              "      <td>8.0</td>\n",
              "      <td>72528.0</td>\n",
              "    </tr>\n",
              "    <tr>\n",
              "      <th>29 days</th>\n",
              "      <td>8.0</td>\n",
              "      <td>74280.0</td>\n",
              "    </tr>\n",
              "    <tr>\n",
              "      <th>30 days</th>\n",
              "      <td>8.0</td>\n",
              "      <td>74675.0</td>\n",
              "    </tr>\n",
              "    <tr>\n",
              "      <th>31 days</th>\n",
              "      <td>8.0</td>\n",
              "      <td>75569.0</td>\n",
              "    </tr>\n",
              "    <tr>\n",
              "      <th>32 days</th>\n",
              "      <td>8.0</td>\n",
              "      <td>76392.0</td>\n",
              "    </tr>\n",
              "    <tr>\n",
              "      <th>33 days</th>\n",
              "      <td>9.0</td>\n",
              "      <td>77042.0</td>\n",
              "    </tr>\n",
              "    <tr>\n",
              "      <th>34 days</th>\n",
              "      <td>9.0</td>\n",
              "      <td>77262.0</td>\n",
              "    </tr>\n",
              "    <tr>\n",
              "      <th>35 days</th>\n",
              "      <td>10.0</td>\n",
              "      <td>77780.0</td>\n",
              "    </tr>\n",
              "    <tr>\n",
              "      <th>36 days</th>\n",
              "      <td>10.0</td>\n",
              "      <td>78191.0</td>\n",
              "    </tr>\n",
              "    <tr>\n",
              "      <th>37 days</th>\n",
              "      <td>11.0</td>\n",
              "      <td>78630.0</td>\n",
              "    </tr>\n",
              "    <tr>\n",
              "      <th>38 days</th>\n",
              "      <td>11.0</td>\n",
              "      <td>78961.0</td>\n",
              "    </tr>\n",
              "    <tr>\n",
              "      <th>39 days</th>\n",
              "      <td>14.0</td>\n",
              "      <td>79394.0</td>\n",
              "    </tr>\n",
              "    <tr>\n",
              "      <th>40 days</th>\n",
              "      <td>19.0</td>\n",
              "      <td>79968.0</td>\n",
              "    </tr>\n",
              "    <tr>\n",
              "      <th>41 days</th>\n",
              "      <td>19.0</td>\n",
              "      <td>80174.0</td>\n",
              "    </tr>\n",
              "    <tr>\n",
              "      <th>42 days</th>\n",
              "      <td>27.0</td>\n",
              "      <td>80304.0</td>\n",
              "    </tr>\n",
              "    <tr>\n",
              "      <th>43 days</th>\n",
              "      <td>30.0</td>\n",
              "      <td>80422.0</td>\n",
              "    </tr>\n",
              "    <tr>\n",
              "      <th>44 days</th>\n",
              "      <td>30.0</td>\n",
              "      <td>80565.0</td>\n",
              "    </tr>\n",
              "    <tr>\n",
              "      <th>45 days</th>\n",
              "      <td>45.0</td>\n",
              "      <td>80711.0</td>\n",
              "    </tr>\n",
              "    <tr>\n",
              "      <th>46 days</th>\n",
              "      <td>51.0</td>\n",
              "      <td>80813.0</td>\n",
              "    </tr>\n",
              "    <tr>\n",
              "      <th>47 days</th>\n",
              "      <td>57.0</td>\n",
              "      <td>80859.0</td>\n",
              "    </tr>\n",
              "    <tr>\n",
              "      <th>48 days</th>\n",
              "      <td>62.0</td>\n",
              "      <td>80904.0</td>\n",
              "    </tr>\n",
              "    <tr>\n",
              "      <th>49 days</th>\n",
              "      <td>77.0</td>\n",
              "      <td>80924.0</td>\n",
              "    </tr>\n",
              "    <tr>\n",
              "      <th>50 days</th>\n",
              "      <td>93.0</td>\n",
              "      <td>80955.0</td>\n",
              "    </tr>\n",
              "    <tr>\n",
              "      <th>51 days</th>\n",
              "      <td>93.0</td>\n",
              "      <td>80981.0</td>\n",
              "    </tr>\n",
              "    <tr>\n",
              "      <th>52 days</th>\n",
              "      <td>138.0</td>\n",
              "      <td>80991.0</td>\n",
              "    </tr>\n",
              "    <tr>\n",
              "      <th>53 days</th>\n",
              "      <td>176.0</td>\n",
              "      <td>81021.0</td>\n",
              "    </tr>\n",
              "    <tr>\n",
              "      <th>54 days</th>\n",
              "      <td>244.0</td>\n",
              "      <td>81048.0</td>\n",
              "    </tr>\n",
              "    <tr>\n",
              "      <th>55 days</th>\n",
              "      <td>304.0</td>\n",
              "      <td>81077.0</td>\n",
              "    </tr>\n",
              "    <tr>\n",
              "      <th>56 days</th>\n",
              "      <td>424.0</td>\n",
              "      <td>81116.0</td>\n",
              "    </tr>\n",
              "  </tbody>\n",
              "</table>\n",
              "</div>"
            ],
            "text/plain": [
              "location  Canada    China\n",
              "days                     \n",
              "0 days       NaN    278.0\n",
              "1 days       NaN    310.0\n",
              "2 days       NaN    574.0\n",
              "3 days       NaN    835.0\n",
              "4 days       NaN   1297.0\n",
              "5 days       NaN   1985.0\n",
              "6 days       1.0   2761.0\n",
              "7 days       2.0   4537.0\n",
              "8 days       3.0   5997.0\n",
              "9 days       3.0   7736.0\n",
              "10 days      3.0   9720.0\n",
              "11 days      4.0  11821.0\n",
              "12 days      4.0  14411.0\n",
              "13 days      4.0  17238.0\n",
              "14 days      4.0  20471.0\n",
              "15 days      5.0  24363.0\n",
              "16 days      5.0  28060.0\n",
              "17 days      7.0  31211.0\n",
              "18 days      7.0  34598.0\n",
              "19 days      7.0  37251.0\n",
              "20 days      7.0  40235.0\n",
              "21 days      7.0  42708.0\n",
              "22 days      7.0  44730.0\n",
              "23 days      7.0  46550.0\n",
              "24 days      7.0  48548.0\n",
              "25 days      7.0  50054.0\n",
              "26 days      7.0  51174.0\n",
              "27 days      7.0  70635.0\n",
              "28 days      8.0  72528.0\n",
              "29 days      8.0  74280.0\n",
              "30 days      8.0  74675.0\n",
              "31 days      8.0  75569.0\n",
              "32 days      8.0  76392.0\n",
              "33 days      9.0  77042.0\n",
              "34 days      9.0  77262.0\n",
              "35 days     10.0  77780.0\n",
              "36 days     10.0  78191.0\n",
              "37 days     11.0  78630.0\n",
              "38 days     11.0  78961.0\n",
              "39 days     14.0  79394.0\n",
              "40 days     19.0  79968.0\n",
              "41 days     19.0  80174.0\n",
              "42 days     27.0  80304.0\n",
              "43 days     30.0  80422.0\n",
              "44 days     30.0  80565.0\n",
              "45 days     45.0  80711.0\n",
              "46 days     51.0  80813.0\n",
              "47 days     57.0  80859.0\n",
              "48 days     62.0  80904.0\n",
              "49 days     77.0  80924.0\n",
              "50 days     93.0  80955.0\n",
              "51 days     93.0  80981.0\n",
              "52 days    138.0  80991.0\n",
              "53 days    176.0  81021.0\n",
              "54 days    244.0  81048.0\n",
              "55 days    304.0  81077.0\n",
              "56 days    424.0  81116.0"
            ]
          },
          "metadata": {
            "tags": []
          },
          "execution_count": 37
        }
      ]
    },
    {
      "cell_type": "code",
      "metadata": {
        "id": "_CXRfhOEOvTC",
        "colab_type": "code",
        "colab": {
          "base_uri": "https://localhost:8080/",
          "height": 297
        },
        "outputId": "30e9b745-bc15-492c-d371-bf4491ee711d"
      },
      "source": [
        "df_total_cases_all_countries.plot()"
      ],
      "execution_count": 38,
      "outputs": [
        {
          "output_type": "execute_result",
          "data": {
            "text/plain": [
              "<matplotlib.axes._subplots.AxesSubplot at 0x7f2ff4944d30>"
            ]
          },
          "metadata": {
            "tags": []
          },
          "execution_count": 38
        },
        {
          "output_type": "display_data",
          "data": {
            "image/png": "[encoded data removed]",
            "text/plain": [
              "<Figure size 432x288 with 1 Axes>"
            ]
          },
          "metadata": {
            "tags": []
          }
        }
      ]
    },
    {
      "cell_type": "markdown",
      "metadata": {
        "id": "vcLUT389Ox42",
        "colab_type": "text"
      },
      "source": [
        "## Looking at Worldwide Data\n"
      ]
    },
    {
      "cell_type": "code",
      "metadata": {
        "id": "ls7TS0EsOzZv",
        "colab_type": "code",
        "colab": {}
      },
      "source": [
        "dfWW = df[df['location'] == 'Worldwide'][['days', 'total_cases', 'total_deaths']].groupby('days').sum()"
      ],
      "execution_count": 0,
      "outputs": []
    },
    {
      "cell_type": "code",
      "metadata": {
        "id": "-Cc9l16rO2t1",
        "colab_type": "code",
        "colab": {
          "base_uri": "https://localhost:8080/",
          "height": 311
        },
        "outputId": "a3e85404-a274-4674-9c39-34ba698c472d"
      },
      "source": [
        "dfWW.plot()"
      ],
      "execution_count": 40,
      "outputs": [
        {
          "output_type": "error",
          "ename": "TypeError",
          "evalue": "ignored",
          "traceback": [
            "\u001b[0;31m---------------------------------------------------------------------------\u001b[0m",
            "\u001b[0;31mTypeError\u001b[0m                                 Traceback (most recent call last)",
            "\u001b[0;32m<ipython-input-40-ca47a75715aa>\u001b[0m in \u001b[0;36m<module>\u001b[0;34m()\u001b[0m\n\u001b[0;32m----> 1\u001b[0;31m \u001b[0mdfWW\u001b[0m\u001b[0;34m.\u001b[0m\u001b[0mplot\u001b[0m\u001b[0;34m(\u001b[0m\u001b[0;34m)\u001b[0m\u001b[0;34m\u001b[0m\u001b[0;34m\u001b[0m\u001b[0m\n\u001b[0m",
            "\u001b[0;32m/usr/local/lib/python3.6/dist-packages/pandas/plotting/_core.py\u001b[0m in \u001b[0;36m__call__\u001b[0;34m(self, *args, **kwargs)\u001b[0m\n\u001b[1;32m    792\u001b[0m                     \u001b[0mdata\u001b[0m\u001b[0;34m.\u001b[0m\u001b[0mcolumns\u001b[0m \u001b[0;34m=\u001b[0m \u001b[0mlabel_name\u001b[0m\u001b[0;34m\u001b[0m\u001b[0;34m\u001b[0m\u001b[0m\n\u001b[1;32m    793\u001b[0m \u001b[0;34m\u001b[0m\u001b[0m\n\u001b[0;32m--> 794\u001b[0;31m         \u001b[0;32mreturn\u001b[0m \u001b[0mplot_backend\u001b[0m\u001b[0;34m.\u001b[0m\u001b[0mplot\u001b[0m\u001b[0;34m(\u001b[0m\u001b[0mdata\u001b[0m\u001b[0;34m,\u001b[0m \u001b[0mkind\u001b[0m\u001b[0;34m=\u001b[0m\u001b[0mkind\u001b[0m\u001b[0;34m,\u001b[0m \u001b[0;34m**\u001b[0m\u001b[0mkwargs\u001b[0m\u001b[0;34m)\u001b[0m\u001b[0;34m\u001b[0m\u001b[0;34m\u001b[0m\u001b[0m\n\u001b[0m\u001b[1;32m    795\u001b[0m \u001b[0;34m\u001b[0m\u001b[0m\n\u001b[1;32m    796\u001b[0m     \u001b[0;32mdef\u001b[0m \u001b[0mline\u001b[0m\u001b[0;34m(\u001b[0m\u001b[0mself\u001b[0m\u001b[0;34m,\u001b[0m \u001b[0mx\u001b[0m\u001b[0;34m=\u001b[0m\u001b[0;32mNone\u001b[0m\u001b[0;34m,\u001b[0m \u001b[0my\u001b[0m\u001b[0;34m=\u001b[0m\u001b[0;32mNone\u001b[0m\u001b[0;34m,\u001b[0m \u001b[0;34m**\u001b[0m\u001b[0mkwargs\u001b[0m\u001b[0;34m)\u001b[0m\u001b[0;34m:\u001b[0m\u001b[0;34m\u001b[0m\u001b[0;34m\u001b[0m\u001b[0m\n",
            "\u001b[0;32m/usr/local/lib/python3.6/dist-packages/pandas/plotting/_matplotlib/__init__.py\u001b[0m in \u001b[0;36mplot\u001b[0;34m(data, kind, **kwargs)\u001b[0m\n\u001b[1;32m     60\u001b[0m             \u001b[0mkwargs\u001b[0m\u001b[0;34m[\u001b[0m\u001b[0;34m\"ax\"\u001b[0m\u001b[0;34m]\u001b[0m \u001b[0;34m=\u001b[0m \u001b[0mgetattr\u001b[0m\u001b[0;34m(\u001b[0m\u001b[0max\u001b[0m\u001b[0;34m,\u001b[0m \u001b[0;34m\"left_ax\"\u001b[0m\u001b[0;34m,\u001b[0m \u001b[0max\u001b[0m\u001b[0;34m)\u001b[0m\u001b[0;34m\u001b[0m\u001b[0;34m\u001b[0m\u001b[0m\n\u001b[1;32m     61\u001b[0m     \u001b[0mplot_obj\u001b[0m \u001b[0;34m=\u001b[0m \u001b[0mPLOT_CLASSES\u001b[0m\u001b[0;34m[\u001b[0m\u001b[0mkind\u001b[0m\u001b[0;34m]\u001b[0m\u001b[0;34m(\u001b[0m\u001b[0mdata\u001b[0m\u001b[0;34m,\u001b[0m \u001b[0;34m**\u001b[0m\u001b[0mkwargs\u001b[0m\u001b[0;34m)\u001b[0m\u001b[0;34m\u001b[0m\u001b[0;34m\u001b[0m\u001b[0m\n\u001b[0;32m---> 62\u001b[0;31m     \u001b[0mplot_obj\u001b[0m\u001b[0;34m.\u001b[0m\u001b[0mgenerate\u001b[0m\u001b[0;34m(\u001b[0m\u001b[0;34m)\u001b[0m\u001b[0;34m\u001b[0m\u001b[0;34m\u001b[0m\u001b[0m\n\u001b[0m\u001b[1;32m     63\u001b[0m     \u001b[0mplot_obj\u001b[0m\u001b[0;34m.\u001b[0m\u001b[0mdraw\u001b[0m\u001b[0;34m(\u001b[0m\u001b[0;34m)\u001b[0m\u001b[0;34m\u001b[0m\u001b[0;34m\u001b[0m\u001b[0m\n\u001b[1;32m     64\u001b[0m     \u001b[0;32mreturn\u001b[0m \u001b[0mplot_obj\u001b[0m\u001b[0;34m.\u001b[0m\u001b[0mresult\u001b[0m\u001b[0;34m\u001b[0m\u001b[0;34m\u001b[0m\u001b[0m\n",
            "\u001b[0;32m/usr/local/lib/python3.6/dist-packages/pandas/plotting/_matplotlib/core.py\u001b[0m in \u001b[0;36mgenerate\u001b[0;34m(self)\u001b[0m\n\u001b[1;32m    277\u001b[0m     \u001b[0;32mdef\u001b[0m \u001b[0mgenerate\u001b[0m\u001b[0;34m(\u001b[0m\u001b[0mself\u001b[0m\u001b[0;34m)\u001b[0m\u001b[0;34m:\u001b[0m\u001b[0;34m\u001b[0m\u001b[0;34m\u001b[0m\u001b[0m\n\u001b[1;32m    278\u001b[0m         \u001b[0mself\u001b[0m\u001b[0;34m.\u001b[0m\u001b[0m_args_adjust\u001b[0m\u001b[0;34m(\u001b[0m\u001b[0;34m)\u001b[0m\u001b[0;34m\u001b[0m\u001b[0;34m\u001b[0m\u001b[0m\n\u001b[0;32m--> 279\u001b[0;31m         \u001b[0mself\u001b[0m\u001b[0;34m.\u001b[0m\u001b[0m_compute_plot_data\u001b[0m\u001b[0;34m(\u001b[0m\u001b[0;34m)\u001b[0m\u001b[0;34m\u001b[0m\u001b[0;34m\u001b[0m\u001b[0m\n\u001b[0m\u001b[1;32m    280\u001b[0m         \u001b[0mself\u001b[0m\u001b[0;34m.\u001b[0m\u001b[0m_setup_subplots\u001b[0m\u001b[0;34m(\u001b[0m\u001b[0;34m)\u001b[0m\u001b[0;34m\u001b[0m\u001b[0;34m\u001b[0m\u001b[0m\n\u001b[1;32m    281\u001b[0m         \u001b[0mself\u001b[0m\u001b[0;34m.\u001b[0m\u001b[0m_make_plot\u001b[0m\u001b[0;34m(\u001b[0m\u001b[0;34m)\u001b[0m\u001b[0;34m\u001b[0m\u001b[0;34m\u001b[0m\u001b[0m\n",
            "\u001b[0;32m/usr/local/lib/python3.6/dist-packages/pandas/plotting/_matplotlib/core.py\u001b[0m in \u001b[0;36m_compute_plot_data\u001b[0;34m(self)\u001b[0m\n\u001b[1;32m    412\u001b[0m         \u001b[0;31m# no non-numeric frames or series allowed\u001b[0m\u001b[0;34m\u001b[0m\u001b[0;34m\u001b[0m\u001b[0;34m\u001b[0m\u001b[0m\n\u001b[1;32m    413\u001b[0m         \u001b[0;32mif\u001b[0m \u001b[0mis_empty\u001b[0m\u001b[0;34m:\u001b[0m\u001b[0;34m\u001b[0m\u001b[0;34m\u001b[0m\u001b[0m\n\u001b[0;32m--> 414\u001b[0;31m             \u001b[0;32mraise\u001b[0m \u001b[0mTypeError\u001b[0m\u001b[0;34m(\u001b[0m\u001b[0;34m\"no numeric data to plot\"\u001b[0m\u001b[0;34m)\u001b[0m\u001b[0;34m\u001b[0m\u001b[0;34m\u001b[0m\u001b[0m\n\u001b[0m\u001b[1;32m    415\u001b[0m \u001b[0;34m\u001b[0m\u001b[0m\n\u001b[1;32m    416\u001b[0m         \u001b[0;31m# GH25587: cast ExtensionArray of pandas (IntegerArray, etc.) to\u001b[0m\u001b[0;34m\u001b[0m\u001b[0;34m\u001b[0m\u001b[0;34m\u001b[0m\u001b[0m\n",
            "\u001b[0;31mTypeError\u001b[0m: no numeric data to plot"
          ]
        }
      ]
    },
    {
      "cell_type": "markdown",
      "metadata": {
        "id": "YjEgwrEcPbFC",
        "colab_type": "text"
      },
      "source": [
        "## Looking at China Data\n"
      ]
    },
    {
      "cell_type": "code",
      "metadata": {
        "id": "X_r0OTQFPgm1",
        "colab_type": "code",
        "colab": {}
      },
      "source": [
        "dfCh = df[df['location'] == 'China'][['days', 'total_cases', 'total_deaths']].groupby('days').sum()"
      ],
      "execution_count": 0,
      "outputs": []
    },
    {
      "cell_type": "code",
      "metadata": {
        "id": "Ny7INBZHPjje",
        "colab_type": "code",
        "colab": {
          "base_uri": "https://localhost:8080/",
          "height": 297
        },
        "outputId": "ba31a1b7-42fb-48b1-8850-ddcce0ab160e"
      },
      "source": [
        "dfCh.plot()"
      ],
      "execution_count": 42,
      "outputs": [
        {
          "output_type": "execute_result",
          "data": {
            "text/plain": [
              "<matplotlib.axes._subplots.AxesSubplot at 0x7f2ff492e470>"
            ]
          },
          "metadata": {
            "tags": []
          },
          "execution_count": 42
        },
        {
          "output_type": "display_data",
          "data": {
            "image/png": "[encoded data removed]",
            "text/plain": [
              "<Figure size 432x288 with 1 Axes>"
            ]
          },
          "metadata": {
            "tags": []
          }
        }
      ]
    },
    {
      "cell_type": "markdown",
      "metadata": {
        "id": "_rBoHJ37PmMW",
        "colab_type": "text"
      },
      "source": [
        "## Looking at Canada Data\n"
      ]
    },
    {
      "cell_type": "code",
      "metadata": {
        "id": "hO4MuNYzPopg",
        "colab_type": "code",
        "colab": {}
      },
      "source": [
        "dfCA = df[df['location'] == 'Canada'][['days', 'total_cases', 'total_deaths']].groupby('days').sum()"
      ],
      "execution_count": 0,
      "outputs": []
    },
    {
      "cell_type": "code",
      "metadata": {
        "id": "S6D7DZ61PqiO",
        "colab_type": "code",
        "colab": {
          "base_uri": "https://localhost:8080/",
          "height": 297
        },
        "outputId": "0c00bf78-08a6-4c9a-f870-1b35d88d1138"
      },
      "source": [
        "dfCA.plot()"
      ],
      "execution_count": 44,
      "outputs": [
        {
          "output_type": "execute_result",
          "data": {
            "text/plain": [
              "<matplotlib.axes._subplots.AxesSubplot at 0x7f2ff490b9e8>"
            ]
          },
          "metadata": {
            "tags": []
          },
          "execution_count": 44
        },
        {
          "output_type": "display_data",
          "data": {
            "image/png": "[encoded data removed]",
            "text/plain": [
              "<Figure size 432x288 with 1 Axes>"
            ]
          },
          "metadata": {
            "tags": []
          }
        }
      ]
    }
  ]
}